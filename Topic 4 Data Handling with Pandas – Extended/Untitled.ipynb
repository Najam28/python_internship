{
 "cells": [
  {
   "cell_type": "code",
   "execution_count": 8,
   "id": "e4fe44e4",
   "metadata": {},
   "outputs": [
    {
     "name": "stdout",
     "output_type": "stream",
     "text": [
      "Sex\n",
      "female    0.742038\n",
      "male      0.188908\n",
      "Name: Survived, dtype: float64\n"
     ]
    }
   ],
   "source": [
    "import pandas as pd\n",
    "\n",
    "df = pd.read_csv(\"titanic_dataset.csv\")\n",
    "\n",
    "avg_survival_by_gender = df.groupby('Sex')['Survived'].mean()\n",
    "print(avg_survival_by_gender)\n"
   ]
  },
  {
   "cell_type": "code",
   "execution_count": 9,
   "id": "cf504184",
   "metadata": {},
   "outputs": [
    {
     "name": "stdout",
     "output_type": "stream",
     "text": [
      "                                                 Name     Sex   Age  Survived\n",
      "1   Cumings, Mrs. John Bradley (Florence Briggs Th...  female  38.0         1\n",
      "3        Futrelle, Mrs. Jacques Heath (Lily May Peel)  female  35.0         1\n",
      "11                           Bonnell, Miss. Elizabeth  female  58.0         1\n",
      "15                   Hewlett, Mrs. (Mary D Kingcome)   female  55.0         1\n",
      "25  Asplund, Mrs. Carl Oscar (Selma Augusta Emilia...  female  38.0         1\n"
     ]
    }
   ],
   "source": [
    "\n",
    "filtered_df = df[(df['Sex'] == 'female') & (df['Age'] > 30) & (df['Survived'] == 1)]\n",
    "\n",
    "print(filtered_df[['Name', 'Sex', 'Age', 'Survived']].head())\n"
   ]
  },
  {
   "cell_type": "code",
   "execution_count": 10,
   "id": "8dadb5c2",
   "metadata": {},
   "outputs": [
    {
     "name": "stdout",
     "output_type": "stream",
     "text": [
      "Missing values before cleanup:\n",
      " PassengerId      0\n",
      "Survived         0\n",
      "Pclass           0\n",
      "Name             0\n",
      "Sex              0\n",
      "Age            177\n",
      "SibSp            0\n",
      "Parch            0\n",
      "Ticket           0\n",
      "Fare             0\n",
      "Cabin          687\n",
      "Embarked         2\n",
      "dtype: int64\n",
      "\n",
      "Original shape: (891, 12)\n",
      "After removing missing values: (183, 12)\n",
      "After removing duplicates: (183, 12)\n"
     ]
    }
   ],
   "source": [
    "\n",
    "print(\"Missing values before cleanup:\\n\", df.isnull().sum())\n",
    "\n",
    "\n",
    "df_no_na = df.dropna()\n",
    "\n",
    "\n",
    "df_cleaned = df_no_na.drop_duplicates()\n",
    "\n",
    "print(\"\\nOriginal shape:\", df.shape)\n",
    "print(\"After removing missing values:\", df_no_na.shape)\n",
    "print(\"After removing duplicates:\", df_cleaned.shape)\n"
   ]
  },
  {
   "cell_type": "code",
   "execution_count": null,
   "id": "7e598476",
   "metadata": {},
   "outputs": [],
   "source": []
  }
 ],
 "metadata": {
  "kernelspec": {
   "display_name": "Python 3 (ipykernel)",
   "language": "python",
   "name": "python3"
  },
  "language_info": {
   "codemirror_mode": {
    "name": "ipython",
    "version": 3
   },
   "file_extension": ".py",
   "mimetype": "text/x-python",
   "name": "python",
   "nbconvert_exporter": "python",
   "pygments_lexer": "ipython3",
   "version": "3.9.12"
  }
 },
 "nbformat": 4,
 "nbformat_minor": 5
}
